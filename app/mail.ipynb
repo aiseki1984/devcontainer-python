{
 "cells": [
  {
   "cell_type": "code",
   "execution_count": 4,
   "id": "fe6f0e8c-fa7c-42c8-a1e7-47ffa9529084",
   "metadata": {},
   "outputs": [],
   "source": [
    "import smtplib\n",
    "from email.mime.text import MIMEText\n",
    "from email.mime.multipart import MIMEMultipart\n",
    "\n",
    "def send_email(subject, body, to_email):\n",
    "    # Mailpit サーバーの情報\n",
    "    smtp_server = \"mail\"\n",
    "    smtp_port = 1025  # MailpitのデフォルトのSMTPポート\n",
    "\n",
    "    from_email = \"your_email@example.com\"  # 送信元のメールアドレス\n",
    "\n",
    "    # メールの作成\n",
    "    msg = MIMEMultipart()\n",
    "    msg['From'] = from_email\n",
    "    msg['To'] = to_email\n",
    "    msg['Subject'] = subject\n",
    "\n",
    "    msg.attach(MIMEText(body, 'plain'))\n",
    "\n",
    "    try:\n",
    "        # SMTPサーバーに接続\n",
    "        server = smtplib.SMTP(smtp_server, smtp_port)\n",
    "        text = msg.as_string()\n",
    "        server.sendmail(from_email, to_email, text)\n",
    "        print(\"メールが送信されました\")\n",
    "    except Exception as e:\n",
    "        print(f\"メール送信中にエラーが発生しました: {e}\")\n",
    "    finally:\n",
    "        server.quit()"
   ]
  },
  {
   "cell_type": "code",
   "execution_count": 5,
   "id": "4e1aec1b-3f8a-40dc-bcbf-cf236632cd31",
   "metadata": {},
   "outputs": [
    {
     "name": "stdout",
     "output_type": "stream",
     "text": [
      "メールが送信されました\n"
     ]
    }
   ],
   "source": [
    "send_email(\"Test Subject\", \"This is the body of the email\", \"recipient@example.com\")"
   ]
  }
 ],
 "metadata": {
  "kernelspec": {
   "display_name": "Python 3 (ipykernel)",
   "language": "python",
   "name": "python3"
  },
  "language_info": {
   "codemirror_mode": {
    "name": "ipython",
    "version": 3
   },
   "file_extension": ".py",
   "mimetype": "text/x-python",
   "name": "python",
   "nbconvert_exporter": "python",
   "pygments_lexer": "ipython3",
   "version": "3.11.9"
  }
 },
 "nbformat": 4,
 "nbformat_minor": 5
}
